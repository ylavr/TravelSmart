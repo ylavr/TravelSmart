{
 "cells": [
  {
   "cell_type": "code",
   "execution_count": 3,
   "metadata": {},
   "outputs": [],
   "source": [
    "import requests\n",
    "import pandas as pd\n",
    "import json\n"
   ]
  },
  {
   "cell_type": "code",
   "execution_count": 4,
   "metadata": {},
   "outputs": [],
   "source": [
    "\n",
    "cookies = {\n",
    "    'G_ENABLED_IDPS': 'google',\n",
    "    'impressions': '2',\n",
    "    'OptanonAlertBoxClosed': '2024-07-11T18:56:42.722Z',\n",
    "    'impressions': '3',\n",
    "    'profiles_uuid': 'undefined',\n",
    "    'last_pet_search': 'https%3A%2F%2Fwww.petfinder.com%2Fsearch%2Fdogs-for-adoption%2Fus%2Fmi%2Fotsego%2F%3Fo%3D0',\n",
    "    'recently_viewed_pets': '%5B72434272%2C72340457%2C72411368%2C70154624%2C70641633%2C53029178%2C52868576%2C52733252%2C52674886%2C52658137%2C51781691%2C43203292%2C33662227%2C41686677%5D',\n",
    "    'PFSESSION': '8284a1497ae0deb443912aa047ddff17',\n",
    "    'user_location_slug': 'us/new-york',\n",
    "    '__eoi': 'ID=fbcb33f99e9971c7:T=1720724112:RT=1721480497:S=AA-AfjZNHqlXLHfS2YmWMZRm0KPr',\n",
    "    'OptanonConsent': 'isGpcEnabled=0&datestamp=Sat+Jul+20+2024+15%3A01%3A45+GMT%2B0200+(Central+European+Summer+Time)&version=202403.2.0&browserGpcFlag=0&isIABGlobal=false&hosts=&landingPath=NotLandingPage&groups=C0001%3A1%2CC0003%3A1%2CBG135%3A0%2CC0002%3A0%2CC0004%3A0&AwaitingReconsent=false&geolocation=NL%3BNH',\n",
    "    'AWSALBTG': 'YpAc63epumgTRYqXxVGVksLM8ssB+cKBjlSwQbzJ0OFf/p1Z9nDihTO+AdlETr2I9eFu2l47ajW/d/sOuvn+bZYUSo4gn8rG82dEB03kW7dGfOfVjX3C0K63lJoJgA9A7iskqGfQ72bNLhR7pvYKQqhB5AV0KlDB5U9rdIk/8czey8krwjs=',\n",
    "    'AWSALBTGCORS': 'YpAc63epumgTRYqXxVGVksLM8ssB+cKBjlSwQbzJ0OFf/p1Z9nDihTO+AdlETr2I9eFu2l47ajW/d/sOuvn+bZYUSo4gn8rG82dEB03kW7dGfOfVjX3C0K63lJoJgA9A7iskqGfQ72bNLhR7pvYKQqhB5AV0KlDB5U9rdIk/8czey8krwjs=',\n",
    "}\n",
    "\n",
    "headers = {\n",
    "    'accept': 'application/json, text/plain, */*',\n",
    "    'accept-language': 'ru-RU,ru;q=0.9,en-US;q=0.8,en;q=0.7',\n",
    "    # 'cookie': 'G_ENABLED_IDPS=google; impressions=2; OptanonAlertBoxClosed=2024-07-11T18:56:42.722Z; impressions=3; profiles_uuid=undefined; last_pet_search=https%3A%2F%2Fwww.petfinder.com%2Fsearch%2Fdogs-for-adoption%2Fus%2Fmi%2Fotsego%2F%3Fo%3D0; recently_viewed_pets=%5B72434272%2C72340457%2C72411368%2C70154624%2C70641633%2C53029178%2C52868576%2C52733252%2C52674886%2C52658137%2C51781691%2C43203292%2C33662227%2C41686677%5D; PFSESSION=8284a1497ae0deb443912aa047ddff17; user_location_slug=us/new-york; __eoi=ID=fbcb33f99e9971c7:T=1720724112:RT=1721480497:S=AA-AfjZNHqlXLHfS2YmWMZRm0KPr; OptanonConsent=isGpcEnabled=0&datestamp=Sat+Jul+20+2024+15%3A01%3A45+GMT%2B0200+(Central+European+Summer+Time)&version=202403.2.0&browserGpcFlag=0&isIABGlobal=false&hosts=&landingPath=NotLandingPage&groups=C0001%3A1%2CC0003%3A1%2CBG135%3A0%2CC0002%3A0%2CC0004%3A0&AwaitingReconsent=false&geolocation=NL%3BNH; AWSALBTG=YpAc63epumgTRYqXxVGVksLM8ssB+cKBjlSwQbzJ0OFf/p1Z9nDihTO+AdlETr2I9eFu2l47ajW/d/sOuvn+bZYUSo4gn8rG82dEB03kW7dGfOfVjX3C0K63lJoJgA9A7iskqGfQ72bNLhR7pvYKQqhB5AV0KlDB5U9rdIk/8czey8krwjs=; AWSALBTGCORS=YpAc63epumgTRYqXxVGVksLM8ssB+cKBjlSwQbzJ0OFf/p1Z9nDihTO+AdlETr2I9eFu2l47ajW/d/sOuvn+bZYUSo4gn8rG82dEB03kW7dGfOfVjX3C0K63lJoJgA9A7iskqGfQ72bNLhR7pvYKQqhB5AV0KlDB5U9rdIk/8czey8krwjs=',\n",
    "    'priority': 'u=1, i',\n",
    "    'referer': 'https://www.petfinder.com/search/dogs-for-adoption/us/new-york/?distance=50',\n",
    "    'sec-ch-ua': '\"Not/A)Brand\";v=\"8\", \"Chromium\";v=\"126\", \"Google Chrome\";v=\"126\"',\n",
    "    'sec-ch-ua-mobile': '?0',\n",
    "    'sec-ch-ua-platform': '\"Windows\"',\n",
    "    'sec-fetch-dest': 'empty',\n",
    "    'sec-fetch-mode': 'cors',\n",
    "    'sec-fetch-site': 'same-origin',\n",
    "    'user-agent': 'Mozilla/5.0 (Windows NT 10.0; Win64; x64) AppleWebKit/537.36 (KHTML, like Gecko) Chrome/126.0.0.0 Safari/537.36',\n",
    "    'x-requested-with': 'XMLHttpRequest',\n",
    "}\n",
    "\n",
    "response = requests.get(\n",
    "    'https://www.petfinder.com/search/?page=1&limit[]=200&status=adoptable&token=Uj1Mmhgwc26bQNfcr3pRQrzvua5j5AfFk4--4cZ6QjI&distance[]=50&type[]=dogs&sort[]=nearest&location_slug[]=us%2Fnew-york&include_transportable=true',\n",
    "    cookies=cookies,\n",
    "    headers=headers,\n",
    ")"
   ]
  },
  {
   "cell_type": "code",
   "execution_count": 5,
   "metadata": {},
   "outputs": [],
   "source": [
    "dogs = response.json()"
   ]
  },
  {
   "cell_type": "code",
   "execution_count": 8,
   "metadata": {},
   "outputs": [
    {
     "data": {
      "text/plain": [
       "dict_keys(['name', 'result', 'parameters', 'url', 'shareableUrl', 'summary', 'show_distance_filter'])"
      ]
     },
     "execution_count": 8,
     "metadata": {},
     "output_type": "execute_result"
    }
   ],
   "source": [
    "dogs.keys()"
   ]
  },
  {
   "cell_type": "markdown",
   "metadata": {},
   "source": []
  },
  {
   "cell_type": "code",
   "execution_count": 15,
   "metadata": {},
   "outputs": [
    {
     "data": {
      "text/plain": [
       "{'num_search_results': 539,\n",
       " 'animal_type': 'Dogs',\n",
       " 'near': 'near',\n",
       " 'animal_search_location_name': 'New York'}"
      ]
     },
     "execution_count": 15,
     "metadata": {},
     "output_type": "execute_result"
    }
   ],
   "source": [
    "dogs['summary']"
   ]
  },
  {
   "cell_type": "code",
   "execution_count": 17,
   "metadata": {},
   "outputs": [],
   "source": [
    "dogs_result = dogs['result']['animals']"
   ]
  },
  {
   "cell_type": "code",
   "execution_count": 20,
   "metadata": {},
   "outputs": [
    {
     "data": {
      "text/plain": [
       "{'distance': 5,\n",
       " 'animal': {'id': 72434272,\n",
       "  'type': {'id': 2, 'name': 'Dog'},\n",
       "  'species': {'id': 11, 'name': 'Dog'},\n",
       "  'breeds_label': 'American Staffordshire Terrier',\n",
       "  'primary_breed': {'id': 181,\n",
       "   'name': 'American Staffordshire Terrier',\n",
       "   'slug': 'american-staffordshire-terrier'},\n",
       "  'is_mixed_breed': False,\n",
       "  'primary_color': 'Gray / Blue / Silver',\n",
       "  'secondary_color': 'White / Cream',\n",
       "  'age': 'Adult',\n",
       "  'sex': 'Female',\n",
       "  'size': 'Medium',\n",
       "  'coat_length': 'Short',\n",
       "  'name': 'Bubbles',\n",
       "  'description': 'Bubbles   STATS               \\nApproximate age        8 years     \\nApproximate weight               45lbs\\nBreed (s)           Pit mix\\nSpayed or neutered? No – to be scheduled\\nGood with:       \\nkids?         unknown\\nstrangers?         yes \\nother dogs?        no   \\ncats?        unknown\\nOn leash?            yes\\nHousetrained?    yes\\nCrate trained?     yes \\nPaper trained?     unknown\\n\\nBubbles is looking for a forever home where she can be the center of her family’s attention and get lots of love.\\n\\nBubbles needs to have strong, durable chew toys. Bubbles will tear plush toys apart within minutes.\\n\\nBubbles is currently being treated for skin issues with medicated baths. Bubbles will be scheduled for mammary mass removal and spay surgery. Simple surgery that the rescue pays for.\\n\\nBubbles is a compact snuggle bug who loves attention. Her history is unknown, as she was found tied to a tree in a park in NYC. Bubbles then found herself on the euthanasia list, and became my foster. She will “smile” and wiggle when she is happy. Bubbles loves a warm bath and a peanut butter filled kong. Bubbles loves to wander around her fenced in yard, however, she does well on a leash as well. \\n\\nBubbles knows the command “sit”, and is currently working on “down”, “shake”, and heeling. Bubbles loves all snackies including Dunkin munchkins. Bubbles loves to ride in the car. Bubbles does well in a crate, however, she may tear blankets up. \\n\\nWhile Bubbles has never had an issue with any people she has met, Bubbles does not appear to be a fan of other dogs.\\n',\n",
       "  'primary_photo_url': 'https://dbw3zep4prcju.cloudfront.net/animal/bfeb120a-c3e2-4e90-8497-75a46b3721a1/image/08de535e-2b4c-4b60-a94b-1e954a5cd7f3.jpg?versionId=pUJ6lIAZv5ouFauhKE4YCc0_9MSwI3eU&bust=1721351501',\n",
       "  'primary_photo_cropped_url': 'https://dbw3zep4prcju.cloudfront.net/animal/bfeb120a-c3e2-4e90-8497-75a46b3721a1/image/08de535e-2b4c-4b60-a94b-1e954a5cd7f3.jpg?versionId=pUJ6lIAZv5ouFauhKE4YCc0_9MSwI3eU&bust=1721351501',\n",
       "  'photo_urls': ['https://dbw3zep4prcju.cloudfront.net/animal/bfeb120a-c3e2-4e90-8497-75a46b3721a1/image/08de535e-2b4c-4b60-a94b-1e954a5cd7f3.jpg?versionId=pUJ6lIAZv5ouFauhKE4YCc0_9MSwI3eU&bust=1721351501',\n",
       "   'https://dbw3zep4prcju.cloudfront.net/animal/bfeb120a-c3e2-4e90-8497-75a46b3721a1/image/9eda9e95-d816-4451-a7d6-1ecd97a5d67e.jpg?versionId=TlgWqctOVTo5hnQUFoG4xuuwFXNi2aot&bust=1721351544',\n",
       "   'https://dbw3zep4prcju.cloudfront.net/animal/bfeb120a-c3e2-4e90-8497-75a46b3721a1/image/887b56d7-eb65-4012-9ee7-2dc8af8c15ea.jpg?versionId=boajrxGCLbn9mR9awYyAWkUO4ZkXdu6q&bust=1721351514',\n",
       "   'https://dbw3zep4prcju.cloudfront.net/animal/bfeb120a-c3e2-4e90-8497-75a46b3721a1/image/801e1991-5d6a-4aa9-9b06-672147cd9c85.jpg?versionId=jI_Jig4YdruBrsc_eAJfM0ogoWzMqK.H&bust=1721351514',\n",
       "   'https://dbw3zep4prcju.cloudfront.net/animal/bfeb120a-c3e2-4e90-8497-75a46b3721a1/image/68d395c6-d3f2-46b4-b362-6154e07df5a3.jpg?versionId=HfaO.A7q82V9G8VuXQadVH6PxOgXLOpn&bust=1721351514',\n",
       "   'https://dbw3zep4prcju.cloudfront.net/animal/bfeb120a-c3e2-4e90-8497-75a46b3721a1/image/038016af-9530-40ec-a1f2-6caa2b2fd2bd.jpg?versionId=isi7hxRYWss97yDeSnBuY5vVFbQTejjf&bust=1721351515'],\n",
       "  'videos': [],\n",
       "  'adoption_status': 'adoptable',\n",
       "  'attributes': ['House trained', 'Shots Current'],\n",
       "  'home_environment_attributes': {'good_with_dogs': False},\n",
       "  'tags': [],\n",
       "  'public_adoption_fee': 0,\n",
       "  'adoption_fee_waived': False,\n",
       "  'display_adoption_fee': False,\n",
       "  'published_at': '2024-07-19T01:13:06+00:00',\n",
       "  'social_sharing': {'facebook_url': 'https://facebook.com/sharer/sharer.php?u=https%3A%2F%2Fwww.petfinder.com%2Fdog%2Fbubbles-72434272%2Fny%2Fvernon%2Fpound-hounds-res-q-ny1248%2F%3Futm_campaign%3Dsocial%2520share%2520button%26utm_medium%3Dsocial%2520media%26utm_source%3Dfacebook%26utm_content%3Dadopt',\n",
       "   'facebook_title': 'Adopt Bubbles on Petfinder',\n",
       "   'facebook_description': 'Bubbles is an adoptable american staffordshire terrier searching for a forever family near Vernon, NY. Use Petfinder to find adoptable pets in your area.',\n",
       "   'twitter_url': 'https://www.twitter.com/intent/tweet/?text=Have+you+seen+a+more+perfect+american+staffordshire+terrier%3F+Bubbles+is+looking+for+a+forever+family+on+%40petfinder&url=https%3A%2F%2Fwww.petfinder.com%2Fdog%2Fbubbles-72434272%2Fny%2Fvernon%2Fpound-hounds-res-q-ny1248%2F%3Futm_campaign%3Dsocial%2520share%2520button%26utm_medium%3Dsocial%2520media%26utm_source%3Dtwitter%26utm_content%3Dperfect%2520pet',\n",
       "   'twitter_title': 'Meet Bubbles, Up For Adoption Near Vernon, NY',\n",
       "   'twitter_description': 'Have you seen a more perfect american staffordshire terrier? Bubbles is looking for a forever family on @petfinder',\n",
       "   'pinterest_url': 'https://www.pinterest.com/pin/create/button/?media=https%3A%2F%2Fdbw3zep4prcju.cloudfront.net%2Fanimal%2Fbfeb120a-c3e2-4e90-8497-75a46b3721a1%2Fimage%2F08de535e-2b4c-4b60-a94b-1e954a5cd7f3.jpg%3FversionId%3DpUJ6lIAZv5ouFauhKE4YCc0_9MSwI3eU%26bust%3D1721351501&description=Bubbles+is+an+adoptable+american+staffordshire+terrier+searching+for+a+forever+family+near+Vernon%2C+NY.+Use+Petfinder+to+find+adoptable+pets+in+your+area.&url=https%3A%2F%2Fwww.petfinder.com%2Fdog%2Fbubbles-72434272%2Fny%2Fvernon%2Fpound-hounds-res-q-ny1248%2F%3Futm_campaign%3Dsocial%2520share%2520button%26utm_medium%3Dsocial%2520media%26utm_source%3Dpinterest%26utm_content%3Dadopt',\n",
       "   'pinterest_title': 'Adopt Bubbles on Petfinder',\n",
       "   'pinterest_description': 'Bubbles is an adoptable american staffordshire terrier searching for a forever family near Vernon, NY. Use Petfinder to find adoptable pets in your area.',\n",
       "   'email_url': 'https://www.petfinder.com/dog/bubbles-72434272/ny/vernon/pound-hounds-res-q-ny1248/',\n",
       "   'email_title': 'Meet Bubbles, a Petfinder adoptable American Staffordshire Terrier | Vernon, NY',\n",
       "   'email_description': \"Bubbles's Profile: https://www.petfinder.com/dog/bubbles-72434272/ny/vernon/pound-hounds-res-q-ny1248/\\nBubbles's Picture: https://dbw3zep4prcju.cloudfront.net/animal/bfeb120a-c3e2-4e90-8497-75a46b3721a1/image/08de535e-2b4c-4b60-a94b-1e954a5cd7f3.jpg?versionId=pUJ6lIAZv5ouFauhKE4YCc0_9MSwI3eU&bust=1721351501\"}},\n",
       " 'contact': {'email': 'poundhoundsresq@gmail.com', 'phone': '917 587 8259'},\n",
       " 'location': {'address': {'city': 'Vernon',\n",
       "   'state': 'NY',\n",
       "   'postal_code': '13476',\n",
       "   'country': 'US'},\n",
       "  'geo': {'latitude': 43.0863391, 'longitude': -75.5160235},\n",
       "  'is_map_hidden': False,\n",
       "  'open_to_public': False,\n",
       "  'by_appointment_only': False,\n",
       "  'hours': {'sunday': '',\n",
       "   'monday': '',\n",
       "   'tuesday': '',\n",
       "   'wednesday': '',\n",
       "   'thursday': '',\n",
       "   'friday': '',\n",
       "   'saturday': ''},\n",
       "  'is_transport': False},\n",
       " 'organization': {'name': 'Pound Hounds Res-Q', 'display_id': 'NY1248'}}"
      ]
     },
     "execution_count": 20,
     "metadata": {},
     "output_type": "execute_result"
    }
   ],
   "source": [
    "dogs_result[0]"
   ]
  },
  {
   "cell_type": "code",
   "execution_count": null,
   "metadata": {},
   "outputs": [],
   "source": [
    "dogs = []"
   ]
  },
  {
   "cell_type": "code",
   "execution_count": null,
   "metadata": {},
   "outputs": [],
   "source": [
    " for dog in dogs_result:\n",
    "            \n",
    "        city_code = hotel['hotel'].get('cityCode')\n",
    "        hotel_id = hotel['hotel'].get('hotelId')\n",
    "        hotel_name = hotel['hotel'].get('name')\n",
    "        type = hotel['hotel'].get('type')\n",
    "        check_in_date = hotel['offers'][0].get('checkInDate')\n",
    "        room_category= hotel['offers'][0]['room']['typeEstimated'].get('category')\n",
    "        bed_type = hotel['offers'][0]['room']['typeEstimated'].get('bedType')\n",
    "        price = hotel['offers'][0]['price'].get('total')\n",
    "        price_currency = hotel['offers'][0]['price'].get('currency')\n",
    "        language = hotel['offers'][0]['room']['description'].get('lang')\n",
    "        # Create a dictionary for the hotel data\n",
    "        hotel_prices_data = {\n",
    "            'City': city_code,\n",
    "            'Hotel id': hotel_id,\n",
    "            'Hotel': hotel_name,\n",
    "            'Type': type,\n",
    "            'Check In':  check_in_date,\n",
    "            'room_category': room_category,\n",
    "            'Bed type': bed_type,\n",
    "            'Price': price,\n",
    "            'Currency': price_currency,\n",
    "            'Language' : language,\n",
    "            }\n",
    "        # Append the hotel data to the list\n",
    "        hotels_prices_lists.append(hotel_prices_data)\n",
    "\n",
    "    return  hotels_prices_lists"
   ]
  },
  {
   "cell_type": "code",
   "execution_count": null,
   "metadata": {},
   "outputs": [],
   "source": []
  },
  {
   "cell_type": "code",
   "execution_count": null,
   "metadata": {},
   "outputs": [],
   "source": []
  },
  {
   "cell_type": "code",
   "execution_count": null,
   "metadata": {},
   "outputs": [],
   "source": []
  }
 ],
 "metadata": {
  "kernelspec": {
   "display_name": "Python 3",
   "language": "python",
   "name": "python3"
  },
  "language_info": {
   "codemirror_mode": {
    "name": "ipython",
    "version": 3
   },
   "file_extension": ".py",
   "mimetype": "text/x-python",
   "name": "python",
   "nbconvert_exporter": "python",
   "pygments_lexer": "ipython3",
   "version": "3.10.11"
  }
 },
 "nbformat": 4,
 "nbformat_minor": 2
}
